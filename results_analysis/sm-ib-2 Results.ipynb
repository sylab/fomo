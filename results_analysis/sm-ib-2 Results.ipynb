{
 "cells": [
  {
   "cell_type": "markdown",
   "metadata": {},
   "source": [
    "# sm-ib-2 Results"
   ]
  },
  {
   "cell_type": "code",
   "execution_count": null,
   "metadata": {},
   "outputs": [],
   "source": []
  },
  {
   "cell_type": "markdown",
   "metadata": {},
   "source": [
    "## Setup"
   ]
  },
  {
   "cell_type": "markdown",
   "metadata": {},
   "source": [
    "### Global"
   ]
  },
  {
   "cell_type": "code",
   "execution_count": 1,
   "metadata": {},
   "outputs": [],
   "source": [
    "# Imports\n",
    "\n",
    "import ipywidgets as widgets\n",
    "import matplotlib.pyplot as plt\n",
    "import numpy as np\n",
    "from IPython.display import display, clear_output"
   ]
  },
  {
   "cell_type": "code",
   "execution_count": 2,
   "metadata": {},
   "outputs": [],
   "source": [
    "# Global variables\n",
    "\n",
    "results = {}"
   ]
  },
  {
   "cell_type": "markdown",
   "metadata": {},
   "source": [
    "### Trace"
   ]
  },
  {
   "cell_type": "code",
   "execution_count": 3,
   "metadata": {},
   "outputs": [],
   "source": [
    "# Create a path for results dictionary\n",
    "\n",
    "def create_path(trace_type, trace_name, duration, cache_size, algorithm):\n",
    "    if not trace_type in results:\n",
    "        results[trace_type] = {}\n",
    "    if not trace_name in results[trace_type]:\n",
    "        results[trace_type][trace_name] = {}\n",
    "    if not duration in results[trace_type][trace_name]:\n",
    "        results[trace_type][trace_name][duration] = {}\n",
    "    if not cache_size in results[trace_type][trace_name][duration]:\n",
    "        results[trace_type][trace_name][duration][cache_size] = {}\n",
    "    if not algorithm in results[trace_type][trace_name][duration][cache_size]:\n",
    "        results[trace_type][trace_name][duration][cache_size][algorithm] = {}"
   ]
  },
  {
   "cell_type": "code",
   "execution_count": 4,
   "metadata": {},
   "outputs": [],
   "source": [
    "# Read file into dictionary\n",
    "# trace_collection trace_name duration cache_size algorithm \n",
    "\n",
    "with open('sorted.csv', 'r') as f:\n",
    "    for line_orig in f:\n",
    "        line = line_orig.strip().split(',')\n",
    "        \n",
    "        trace_type, trace_name, cache_size, real_size, algorithm, duration = line[:6]\n",
    "        hits, misses, filters = map(int, line[6:9])\n",
    "        promotions, demotions, private = map(int, line[9:12])\n",
    "        read_hits, read_misses = map(int, line[12:14])\n",
    "        write_hits, write_misses, dirty_evicts = map(int, line[14:])\n",
    "        ios = hits + misses + filters\n",
    "        \n",
    "        if duration == '':\n",
    "            duration = \"full\"\n",
    "        \n",
    "        create_path(trace_type, trace_name, duration, cache_size, algorithm)\n",
    "        \n",
    "        results[trace_type][trace_name][duration][cache_size][algorithm] = {\n",
    "            \"hits\": hits,\n",
    "            \"read_hits\": read_hits,\n",
    "            \"write_hits\": write_hits,\n",
    "            \"misses\": misses,\n",
    "            \"read_misses\": read_misses,\n",
    "            \"write_misses\": write_misses,\n",
    "            \"filters\": filters,\n",
    "            \"promotions\": promotions,\n",
    "            \"dirty_evicts\": dirty_evicts,\n",
    "            \n",
    "            \"hit-rate\": 100 * (hits / ios),\n",
    "            \"write-rate\": 100 * ((write_hits + promotions) / ios),\n",
    "            \"filter-rate\": 100 * (filters / ios),\n",
    "        }"
   ]
  },
  {
   "cell_type": "markdown",
   "metadata": {},
   "source": [
    "### Interactive"
   ]
  },
  {
   "cell_type": "code",
   "execution_count": 5,
   "metadata": {},
   "outputs": [],
   "source": [
    "# Setup textbox for graph title\n",
    "\n",
    "title_text = widgets.Text(\n",
    "    description='Title:',\n",
    ")"
   ]
  },
  {
   "cell_type": "code",
   "execution_count": 6,
   "metadata": {},
   "outputs": [],
   "source": [
    "# Setup dropdown menu to pick collection of traces for graph\n",
    "\n",
    "workload_dropdown = widgets.Dropdown(\n",
    "    options=list(results.keys()),\n",
    "    description=\"Workload:\",\n",
    ")"
   ]
  },
  {
   "cell_type": "code",
   "execution_count": 7,
   "metadata": {},
   "outputs": [],
   "source": [
    "# Setup dropdown menu to pick duration for graph\n",
    "\n",
    "duration_dropdown = widgets.Dropdown(\n",
    "    options=[],\n",
    "    description=\"Duration:\",\n",
    ")\n",
    "\n",
    "def setup_duration_dropdown(workload):\n",
    "    workload_trace = list(results[workload].keys())[0]\n",
    "    duration_dropdown.options=sorted(list(results[workload][workload_trace].keys()))\n",
    "    \n",
    "setup_duration_dropdown(workload_dropdown.value)"
   ]
  },
  {
   "cell_type": "code",
   "execution_count": 8,
   "metadata": {},
   "outputs": [],
   "source": [
    "# Setup selection menu to pick cache size for graph\n",
    "\n",
    "cache_size_select = widgets.SelectMultiple(\n",
    "    options=['default'],\n",
    "    description=\"Cache sizes:\",\n",
    "    layout=widgets.Layout(width='auto')\n",
    ")\n",
    "\n",
    "def setup_cache_size_select(workload, duration):\n",
    "    workload_trace = list(results[workload].keys())[0]\n",
    "    cache_size_select.options=list(results[workload][workload_trace][duration].keys())\n",
    "    \n",
    "setup_cache_size_select(workload_dropdown.value, duration_dropdown.value)"
   ]
  },
  {
   "cell_type": "code",
   "execution_count": 9,
   "metadata": {},
   "outputs": [],
   "source": [
    "# Setup selection menu to pick algorithms for graph\n",
    "\n",
    "algorithm_select = widgets.SelectMultiple(\n",
    "    options=['default'],\n",
    "    description=\"Algorithms:\",\n",
    "    layout=widgets.Layout(width='auto')\n",
    ")\n",
    "\n",
    "def setup_algorithm_select(workload, duration, cache_sizes):\n",
    "    workload_trace = list(results[workload].keys())[0]\n",
    "    algorithm_set = set()\n",
    "    for cache_size in cache_sizes:\n",
    "        for algorithm in results[workload][workload_trace][duration][cache_size]:\n",
    "            algorithm_set.add(algorithm)\n",
    "    \n",
    "    algorithm_display_order = ('lru', 'fomo_lru', 'arc', 'fomo_arc', 'lirs', 'fomo_lirs',\n",
    "                               'larc', 'marc')\n",
    "    \n",
    "    algorithm_options=[]\n",
    "    \n",
    "    for alg in algorithm_display_order:\n",
    "        if alg in algorithm_set:\n",
    "            algorithm_options.append(alg)\n",
    "    for alg in algorithm_set:\n",
    "        if alg not in algorithm_options:\n",
    "            algorithm_options.append(alg)\n",
    "            \n",
    "    algorithm_select.options=algorithm_options\n",
    "    \n",
    "setup_algorithm_select(workload_dropdown.value, duration_dropdown.value, cache_size_select.value)"
   ]
  },
  {
   "cell_type": "code",
   "execution_count": 10,
   "metadata": {},
   "outputs": [],
   "source": [
    "# Setup radio buttons to pick a stat to focus on for graph\n",
    "\n",
    "stat_buttons = widgets.RadioButtons(\n",
    "    options=[\"hit-rate\", \"write-rate\", \"filter-rate\"],\n",
    "    description=\"Stat:\",\n",
    "    disabled=True,\n",
    "    layout=widgets.Layout(width='auto')\n",
    ")"
   ]
  },
  {
   "cell_type": "code",
   "execution_count": 11,
   "metadata": {},
   "outputs": [],
   "source": [
    "# Setup radio buttons to pick whether to show missing configs\n",
    "\n",
    "missing_buttons = widgets.RadioButtons(\n",
    "    options=[\"Show\", \"Hide\"],\n",
    "    description=\"Missing:\",\n",
    "    layout=widgets.Layout(width='auto')\n",
    ")"
   ]
  },
  {
   "cell_type": "code",
   "execution_count": 12,
   "metadata": {},
   "outputs": [],
   "source": [
    "# Setup radio buttons to pick whether to clear previous graphs\n",
    "\n",
    "clear_buttons = widgets.RadioButtons(\n",
    "    options=[\"Enable\", \"Disable\"],\n",
    "    description=\"Clear Graphs\",\n",
    "    layout=widgets.Layout(width='auto')\n",
    ")"
   ]
  },
  {
   "cell_type": "code",
   "execution_count": 13,
   "metadata": {},
   "outputs": [],
   "source": [
    "# Setup selection menu to pick traces for graph\n",
    "\n",
    "trace_select = widgets.SelectMultiple(\n",
    "    options=[],\n",
    "    description=\"Traces:\",\n",
    "    layout=widgets.Layout(width='auto', height='100%')\n",
    ")\n",
    "\n",
    "def setup_trace_select(workload):\n",
    "    trace_select.options=sorted(list(results[workload].keys()))\n",
    "    \n",
    "setup_trace_select(workload_dropdown.value)"
   ]
  },
  {
   "cell_type": "code",
   "execution_count": 14,
   "metadata": {},
   "outputs": [],
   "source": [
    "# Setup graphing button\n",
    "\n",
    "button = widgets.Button(\n",
    "    description=\"Graph!\",\n",
    "    icon='check'\n",
    ")\n",
    "out = widgets.Output()\n",
    "\n",
    "def button_clicked(_):\n",
    "    if clear_buttons.value == \"Enable\":\n",
    "        clear_output(wait=True)\n",
    "        display(button)\n",
    "    \n",
    "    if len(cache_size_select.value) > 0 and len(algorithm_select.value) > 0:\n",
    "        graphing_func()\n",
    "    else:\n",
    "        if len(cache_size_select.value) == 0:\n",
    "            print(\"Please select cache size(s)\")\n",
    "        if len(algorithm_select.value) == 0:\n",
    "            print(\"Please select algorithm(s)\")\n",
    "    #if clear_buttons.value == \"Enable\":\n",
    "    #    display(button)\n",
    "    \n",
    "button.on_click(button_clicked)"
   ]
  },
  {
   "cell_type": "code",
   "execution_count": 15,
   "metadata": {},
   "outputs": [],
   "source": [
    "# Setup variable to point to function for graphing\n",
    "\n",
    "def graphing_func_default():\n",
    "    pass\n",
    "\n",
    "graphing_func = graphing_func_default"
   ]
  },
  {
   "cell_type": "code",
   "execution_count": 16,
   "metadata": {},
   "outputs": [],
   "source": [
    "# Setup functions for value changes\n",
    "\n",
    "def workload_value_changed(change):\n",
    "    setup_duration_dropdown(change.new)\n",
    "    setup_cache_size_select(change.new, duration_dropdown.value)\n",
    "    setup_algorithm_select(change.new, duration_dropdown.value, cache_size_select.value)\n",
    "    setup_trace_select(change.new)\n",
    "\n",
    "    \n",
    "def duration_value_changed(change):\n",
    "    workload = workload_dropdown.value\n",
    "    setup_cache_size_select(workload, change.new)\n",
    "    \n",
    "def cache_size_value_changed(change):\n",
    "    workload = workload_dropdown.value\n",
    "    duration = duration_dropdown.value\n",
    "    setup_algorithm_select(workload, duration, change.new)\n",
    "    \n",
    "def algorithm_value_changed(change):\n",
    "    stat_buttons.disabled=len(algorithm_select.value) == 0\n",
    "    #graphing_func()\n",
    "\n",
    "def stat_value_changed(change):\n",
    "    pass\n",
    "    #graphing_func()"
   ]
  },
  {
   "cell_type": "code",
   "execution_count": 17,
   "metadata": {},
   "outputs": [],
   "source": [
    "# Setup for value changes\n",
    "\n",
    "workload_dropdown.observe(workload_value_changed, 'value')\n",
    "duration_dropdown.observe(duration_value_changed, 'value')\n",
    "cache_size_select.observe(cache_size_value_changed, 'value')\n",
    "algorithm_select.observe(algorithm_value_changed, 'value')\n",
    "stat_buttons.observe(stat_value_changed, 'value')"
   ]
  },
  {
   "cell_type": "markdown",
   "metadata": {},
   "source": [
    "### Graphing"
   ]
  },
  {
   "cell_type": "code",
   "execution_count": 18,
   "metadata": {},
   "outputs": [],
   "source": [
    "# Setup graphing function\n",
    "\n",
    "def graph_bar():\n",
    "    algs = algorithm_select.value\n",
    "    sizes = cache_size_select.value\n",
    "    x = np.arange(len(sizes))\n",
    "    fig = plt.figure(figsize=(16,6))\n",
    "    \n",
    "    # get indexes and y-values\n",
    "    index = np.arange(len(sizes))\n",
    "    bar_width = 0.9 / float(len(algs))\n",
    "    opacity = 0.8\n",
    "    \n",
    "    # get top result dictionary\n",
    "    # setup for data[algorithm][stat]\n",
    "    workload_value = workload_dropdown.value\n",
    "    workload_trace = list(results[workload_value].keys())[0]\n",
    "    duration = duration_dropdown.value\n",
    "    cache_size = list(results[workload_value][workload_trace][duration].keys())[0]\n",
    "    stat = stat_buttons.value\n",
    "    \n",
    "    problematic_configs = set()\n",
    "    \n",
    "    for i, algo in enumerate(algs):\n",
    "        values = []\n",
    "        for size in sizes:\n",
    "            size_values = []\n",
    "            #for trace in results[workload_value]:\n",
    "            for trace in trace_select.value:\n",
    "                try:\n",
    "                    size_values.append(results[workload_value][trace][duration][size][algo][stat])\n",
    "                except:\n",
    "                    problematic_configs.add(','.join((workload_value, trace, duration, size, algo)))\n",
    "                    #raise Error\n",
    "            # plot bar\n",
    "            values.append(np.mean(size_values))\n",
    "        plt.bar(index + (i*bar_width), values, bar_width, alpha=opacity, label=algo)\n",
    "\n",
    "    if missing_buttons.value == \"Show\":\n",
    "        print(\"\\n\".join(sorted(problematic_configs)))\n",
    "        \n",
    "    x_labels = sizes\n",
    "    \n",
    "    title = title_text.value\n",
    "    if title == '':\n",
    "        title = \"{} {}\".format(workload_dropdown.value, duration_dropdown.value)\n",
    "    plt.title(title)\n",
    "    plt.xlabel('Cache Size')\n",
    "    plt.ylabel(stat)\n",
    "    plt.xticks(x + ((len(algs)/2) * bar_width), x_labels)\n",
    "    plt.legend(loc='upper center', bbox_to_anchor=(1.05, 0.8), ncol=1)\n",
    "    \n",
    "    plt.tight_layout()\n",
    "    plt.show()\n",
    "\n",
    "graphing_func = graph_bar"
   ]
  },
  {
   "cell_type": "markdown",
   "metadata": {},
   "source": [
    "## Interactive Graphing"
   ]
  },
  {
   "cell_type": "code",
   "execution_count": 19,
   "metadata": {
    "scrolled": true,
    "tags": [
     "hide_input"
    ]
   },
   "outputs": [
    {
     "data": {
      "application/vnd.jupyter.widget-view+json": {
       "model_id": "77f8ed60a9414a5bbcb649a94ce0d633",
       "version_major": 2,
       "version_minor": 0
      },
      "text/plain": [
       "VBox(children=(Text(value='', description='Title:'), HBox(children=(VBox(children=(Dropdown(description='Workl…"
      ]
     },
     "metadata": {},
     "output_type": "display_data"
    }
   ],
   "source": [
    "a_box = widgets.VBox([workload_dropdown, cache_size_select, stat_buttons])\n",
    "b_box = widgets.VBox([duration_dropdown, algorithm_select, missing_buttons, clear_buttons])\n",
    "c_box = widgets.VBox([trace_select])\n",
    "\n",
    "display_box = widgets.VBox([title_text, widgets.HBox([a_box, b_box, c_box])])\n",
    "\n",
    "\n",
    "display(display_box)"
   ]
  },
  {
   "cell_type": "code",
   "execution_count": 20,
   "metadata": {
    "scrolled": false,
    "tags": [
     "hide_input"
    ]
   },
   "outputs": [
    {
     "data": {
      "application/vnd.jupyter.widget-view+json": {
       "model_id": "6344a377ce924debbb39c3a12292317b",
       "version_major": 2,
       "version_minor": 0
      },
      "text/plain": [
       "Button(description='Graph!', icon='check', style=ButtonStyle())"
      ]
     },
     "metadata": {},
     "output_type": "display_data"
    }
   ],
   "source": [
    "display(button)"
   ]
  },
  {
   "cell_type": "code",
   "execution_count": 22,
   "metadata": {},
   "outputs": [
    {
     "name": "stdout",
     "output_type": "stream",
     "text": [
      "CloudPhysics w21_vscsi1.itrace 1d 0.01 larc= 1.1456477956797846 fomo_arc= 0.6056897308499343\n",
      "CloudPhysics w21_vscsi1.itrace 1d 0.02 larc= 1.8518756183216194 fomo_arc= 0.6365398671175687\n",
      "CloudPhysics w21_vscsi1.itrace 1d 0.05 larc= 3.9498765652137875 fomo_arc= 1.8871126286320556\n",
      "CloudPhysics w65_vscsi1.itrace 1d 0.02 larc= 1.4662580509938765 fomo_arc= 0.8517044977711293\n",
      "CloudPhysics w65_vscsi1.itrace 1d 0.05 larc= 2.917059631138403 fomo_arc= 1.1241903650871918\n",
      "CloudPhysics w65_vscsi1.itrace 1d 0.20 larc= 10.567632391230932 fomo_arc= 5.279708145256688\n",
      "CloudPhysics w94_vscsi1.itrace 1d 0.05 larc= 5.130733475683456 fomo_arc= 3.383722454650794\n",
      "CloudVPS vps26356-1.blk full 0.10 larc= 20.039657174165438 fomo_arc= 11.076874910314778\n",
      "FIU_1d madmax-110108-112108.1.blkparse full 0.15 larc= 23.967457466076784 fomo_arc= 15.735819551253503\n",
      "MSR web_3.csv 1d 0.02 larc= 0.26780125130134674 fomo_arc= 0.12586658811163295\n",
      "MSR web_3.csv 1d 0.05 larc= 0.9332873607851933 fomo_arc= 0.3283912844082764\n",
      "MSR web_3.csv 1d 0.10 larc= 1.5318231574437031 fomo_arc= 0.8107682883148272\n"
     ]
    }
   ],
   "source": [
    "for trace_type in results:\n",
    "    for trace in results[trace_type]:\n",
    "        for duration in results[trace_type][trace]:\n",
    "            results_a = results[trace_type][trace][duration]\n",
    "            for cache_size in results_a:\n",
    "                results_b = results_a[cache_size]\n",
    "                if 'larc' in results_b and 'fomo_arc' in results_b:\n",
    "                    if results_b['larc']['hit-rate'] >= 1.5 * (results_b['fomo_arc']['hit-rate']):\n",
    "                        print(trace_type, trace, duration, cache_size, 'larc=', results_b['larc']['hit-rate'], 'fomo_arc=', results_b['fomo_arc']['hit-rate'])"
   ]
  }
 ],
 "metadata": {
  "kernelspec": {
   "display_name": "Python 3",
   "language": "python",
   "name": "python3"
  },
  "language_info": {
   "codemirror_mode": {
    "name": "ipython",
    "version": 3
   },
   "file_extension": ".py",
   "mimetype": "text/x-python",
   "name": "python",
   "nbconvert_exporter": "python",
   "pygments_lexer": "ipython3",
   "version": "3.7.6"
  }
 },
 "nbformat": 4,
 "nbformat_minor": 2
}
